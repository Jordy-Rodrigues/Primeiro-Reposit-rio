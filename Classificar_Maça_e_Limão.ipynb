{
  "nbformat": 4,
  "nbformat_minor": 0,
  "metadata": {
    "colab": {
      "name": "Classificar Maça e Limão",
      "provenance": [],
      "collapsed_sections": [],
      "authorship_tag": "ABX9TyN/qzmnMvayiWGU/Wz2IfQh",
      "include_colab_link": true
    },
    "kernelspec": {
      "name": "python3",
      "display_name": "Python 3"
    },
    "language_info": {
      "name": "python"
    }
  },
  "cells": [
    {
      "cell_type": "markdown",
      "metadata": {
        "id": "view-in-github",
        "colab_type": "text"
      },
      "source": [
        "<a href=\"https://colab.research.google.com/github/Jordy-Rodrigues/Primeiro-Reposit-rio/blob/main/Classificar_Ma%C3%A7a_e_Lim%C3%A3o.ipynb\" target=\"_parent\"><img src=\"https://colab.research.google.com/assets/colab-badge.svg\" alt=\"Open In Colab\"/></a>"
      ]
    },
    {
      "cell_type": "markdown",
      "source": [
        "#(PROJETO)\n",
        "Ensinar o Modelo a diferenciar entre duas frutas"
      ],
      "metadata": {
        "id": "94VMLT3XEPyb"
      }
    },
    {
      "cell_type": "code",
      "source": [
        "# PRIMEIRO VOU DAR UM VALOR NÚMERICO PARA CADA NOME DA MINHA TABELA"
      ],
      "metadata": {
        "id": "PfQUu869KH3K"
      },
      "execution_count": 164,
      "outputs": []
    },
    {
      "cell_type": "code",
      "source": [
        "limão = 1\n",
        "irregular = 0\n",
        "\n",
        "maça = 0\n",
        "lisa = 1"
      ],
      "metadata": {
        "id": "lLtJOhBbJjnA"
      },
      "execution_count": 165,
      "outputs": []
    },
    {
      "cell_type": "code",
      "source": [
        "# CRIO UMA TABELA E COLOCO O PRESO POR (g) APROXIMADO DA SUPERFICIE DO LIMÃO E DA MAÇA"
      ],
      "metadata": {
        "id": "vdNXyEGNKGBB"
      },
      "execution_count": 166,
      "outputs": []
    },
    {
      "cell_type": "code",
      "source": [
        "POMAR = [[170,limão],[180,irregular],[200,maça],[190,lisa]]"
      ],
      "metadata": {
        "id": "GYdmDuK9rHMK"
      },
      "execution_count": 167,
      "outputs": []
    },
    {
      "cell_type": "code",
      "source": [
        "print(POMAR)"
      ],
      "metadata": {
        "colab": {
          "base_uri": "https://localhost:8080/"
        },
        "id": "Obc5ZyFFrule",
        "outputId": "d8fea0a2-7b8b-4da5-9b1a-3d4ff045c2ce"
      },
      "execution_count": 168,
      "outputs": [
        {
          "output_type": "stream",
          "name": "stdout",
          "text": [
            "[[170, 1], [180, 0], [200, 0], [190, 1]]\n"
          ]
        }
      ]
    },
    {
      "cell_type": "code",
      "source": [
        "resultado=[maça,maça,limão,limão]"
      ],
      "metadata": {
        "id": "lb0ZZNJjsAqw"
      },
      "execution_count": 169,
      "outputs": []
    },
    {
      "cell_type": "code",
      "source": [
        "# IMPORTAR A BIBLIOTECA SKLEARN"
      ],
      "metadata": {
        "id": "3ArTHG7nL8hP"
      },
      "execution_count": 170,
      "outputs": []
    },
    {
      "cell_type": "code",
      "source": [
        "from  sklearn import tree"
      ],
      "metadata": {
        "id": "qWN7aAh7JOh-"
      },
      "execution_count": 171,
      "outputs": []
    },
    {
      "cell_type": "code",
      "source": [
        "# IMPORTAR O MODELO PREDITIVO CLASSIFICADOR DE ÁRVORE DE DECISÃO"
      ],
      "metadata": {
        "id": "r3bX4q4HMQ_g"
      },
      "execution_count": 172,
      "outputs": []
    },
    {
      "cell_type": "code",
      "source": [
        "clf= tree.DecisionTreeClassifier()"
      ],
      "metadata": {
        "id": "0olapYFmsbth"
      },
      "execution_count": 173,
      "outputs": []
    },
    {
      "cell_type": "code",
      "source": [
        "# TREINO O MODELO"
      ],
      "metadata": {
        "id": "6AXdCehkNLqX"
      },
      "execution_count": 174,
      "outputs": []
    },
    {
      "cell_type": "code",
      "source": [
        "clf=clf.fit(POMAR, resultado)"
      ],
      "metadata": {
        "id": "08iTEZj5ss-O"
      },
      "execution_count": 175,
      "outputs": []
    },
    {
      "cell_type": "code",
      "source": [
        "# CRIO UMA INPUT "
      ],
      "metadata": {
        "id": "QvjOHfMRNWVo"
      },
      "execution_count": 176,
      "outputs": []
    },
    {
      "cell_type": "code",
      "source": [
        "peso = input(\"Entre com o peso da maça ou do limão: \")\n",
        "superficie = input(\"Entre com a superfie: \")"
      ],
      "metadata": {
        "id": "DFRj_fdxs_uf"
      },
      "execution_count": null,
      "outputs": []
    },
    {
      "cell_type": "code",
      "source": [
        "# RESULTADO "
      ],
      "metadata": {
        "id": "J-r-OH0iPy4u"
      },
      "execution_count": 178,
      "outputs": []
    },
    {
      "cell_type": "code",
      "source": [
        "resultadoDoUsuario=clf.predict([[peso,superficie]])"
      ],
      "metadata": {
        "id": "Ueld9G2TQGLP"
      },
      "execution_count": 179,
      "outputs": []
    },
    {
      "cell_type": "code",
      "source": [
        "if resultadoDoUsuario==1:\n",
        "  print(\"É uma maça\")\n",
        "else:\n",
        "  print(\"É um limão\")"
      ],
      "metadata": {
        "colab": {
          "base_uri": "https://localhost:8080/"
        },
        "id": "3GqLXU-Uu3kl",
        "outputId": "2eeb418f-cfeb-455a-e856-de3d0e76f06b"
      },
      "execution_count": 180,
      "outputs": [
        {
          "output_type": "stream",
          "name": "stdout",
          "text": [
            "É um limão\n"
          ]
        }
      ]
    }
  ]
}