{
  "nbformat": 4,
  "nbformat_minor": 0,
  "metadata": {
    "colab": {
      "name": "Classificar Maça e Limão",
      "provenance": [],
      "collapsed_sections": [],
      "authorship_tag": "ABX9TyMPrLGBN625TlPyIcLZEbsk",
      "include_colab_link": true
    },
    "kernelspec": {
      "name": "python3",
      "display_name": "Python 3"
    },
    "language_info": {
      "name": "python"
    }
  },
  "cells": [
    {
      "cell_type": "markdown",
      "metadata": {
        "id": "view-in-github",
        "colab_type": "text"
      },
      "source": [
        "<a href=\"https://colab.research.google.com/github/Jordy-Rodrigues/Primeiro-Reposit-rio/blob/main/Classificar_Ma%C3%A7a_e_Lim%C3%A3o.ipynb\" target=\"_parent\"><img src=\"https://colab.research.google.com/assets/colab-badge.svg\" alt=\"Open In Colab\"/></a>"
      ]
    },
    {
      "cell_type": "markdown",
      "source": [
        "Ensinar o Modelo a diferenciar entre duas frutas"
      ],
      "metadata": {
        "id": "94VMLT3XEPyb"
      }
    },
    {
      "cell_type": "code",
      "source": [
        "# PRIMEIRO VOU DAR UM VALOR NÚMERICO PARA CADA NOME DA MINHA TABELA\n",
        "\n",
        "# Frutas\n",
        "limão = 1\n",
        "maça = 0\n",
        "# Superfícies\n",
        "irregular = 1\n",
        "lisa = 0"
      ],
      "metadata": {
        "id": "lLtJOhBbJjnA"
      },
      "execution_count": 98,
      "outputs": []
    },
    {
      "cell_type": "code",
      "source": [
        "# CRIO UMA TABELA E COLOCO O PRESO POR (g) APROXIMADO DA SUPERFICIE DO LIMÃO E DA MAÇA\n",
        "POMAR = [[170,limão],[200,maça],[180,irregular],[190,lisa]]"
      ],
      "metadata": {
        "id": "GYdmDuK9rHMK"
      },
      "execution_count": 99,
      "outputs": []
    },
    {
      "cell_type": "code",
      "source": [
        "# MOSTRAR A TABELA\n",
        "print(POMAR)"
      ],
      "metadata": {
        "colab": {
          "base_uri": "https://localhost:8080/"
        },
        "id": "Obc5ZyFFrule",
        "outputId": "e16be850-ed6c-4b26-8d84-b69eebdb2232"
      },
      "execution_count": 100,
      "outputs": [
        {
          "output_type": "stream",
          "name": "stdout",
          "text": [
            "[[170, 1], [200, 0], [180, 1], [190, 0]]\n"
          ]
        }
      ]
    },
    {
      "cell_type": "code",
      "source": [
        "resultado=[limão,maça,limão,maça]"
      ],
      "metadata": {
        "id": "lb0ZZNJjsAqw"
      },
      "execution_count": 108,
      "outputs": []
    },
    {
      "cell_type": "code",
      "source": [
        "# IMPORTO O MODELO ÁRVORE DA BIBLIOTECA SKLEARN\n",
        "from  sklearn import tree"
      ],
      "metadata": {
        "id": "qWN7aAh7JOh-"
      },
      "execution_count": 109,
      "outputs": []
    },
    {
      "cell_type": "code",
      "source": [
        "# IMPORTAR O MODELO PREDITIVO CLASSIFICADOR DE ÁRVORE DE DECISÃO\n",
        "clf= tree.DecisionTreeClassifier()"
      ],
      "metadata": {
        "id": "0olapYFmsbth"
      },
      "execution_count": 110,
      "outputs": []
    },
    {
      "cell_type": "code",
      "source": [
        "# TREINO O MODELO\n",
        "clf=clf.fit(POMAR, resultado)"
      ],
      "metadata": {
        "id": "08iTEZj5ss-O"
      },
      "execution_count": 111,
      "outputs": []
    },
    {
      "cell_type": "code",
      "source": [
        "# CRIO UMA INPUT QUE RECEBE OS VALORES PARA CLASSIFICAÇÃO\n",
        "\n",
        "# peso (170,200,180,190)\n",
        "# Superfície (0,1)\n",
        "peso = input(\"Entre com o peso da maça ou do limão: \")\n",
        "superficie = input(\"Entre com a superfie: \")"
      ],
      "metadata": {
        "id": "DFRj_fdxs_uf",
        "colab": {
          "base_uri": "https://localhost:8080/"
        },
        "outputId": "5d18f629-b4bd-4b3a-f123-fe42b467b01d"
      },
      "execution_count": 112,
      "outputs": [
        {
          "name": "stdout",
          "output_type": "stream",
          "text": [
            "Entre com o peso da maça ou do limão: 180\n",
            "Entre com a superfie: 1\n"
          ]
        }
      ]
    },
    {
      "cell_type": "code",
      "source": [
        "# CRIO UMA VARIAVEL DE PREVISÃO\n",
        "resultadoDoUsuario=clf.predict([[peso,superficie]])"
      ],
      "metadata": {
        "id": "Ueld9G2TQGLP"
      },
      "execution_count": 113,
      "outputs": []
    },
    {
      "cell_type": "code",
      "source": [
        "# COLOCO AS CONDIÇÕES DA PREDIÇÃO\n",
        "if resultadoDoUsuario==1:\n",
        "  print(\"É um limão\")\n",
        "else:\n",
        "  print(\"É uma maça\")"
      ],
      "metadata": {
        "colab": {
          "base_uri": "https://localhost:8080/"
        },
        "id": "3GqLXU-Uu3kl",
        "outputId": "3f30d5aa-a1f7-4720-ccde-5a6ae3e4f263"
      },
      "execution_count": 114,
      "outputs": [
        {
          "output_type": "stream",
          "name": "stdout",
          "text": [
            "É um limão\n"
          ]
        }
      ]
    }
  ]
}